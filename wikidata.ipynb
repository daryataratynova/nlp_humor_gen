{
  "nbformat": 4,
  "nbformat_minor": 0,
  "metadata": {
    "colab": {
      "provenance": []
    },
    "kernelspec": {
      "name": "python3",
      "display_name": "Python 3"
    },
    "language_info": {
      "name": "python"
    }
  },
  "cells": [
    {
      "cell_type": "code",
      "source": [
        "import requests\n",
        "from requests import utils\n",
        "from bs4 import BeautifulSoup\n",
        "import random\n",
        "import time"
      ],
      "metadata": {
        "id": "-GvVw1R7srkI"
      },
      "execution_count": 9,
      "outputs": []
    },
    {
      "cell_type": "code",
      "execution_count": 2,
      "metadata": {
        "id": "MaNuaOCxsoG8"
      },
      "outputs": [],
      "source": [
        "def get_wikipedia_url_from_wikidata_id(wikidata_id, lang='en', debug=False):\n",
        "    url = (\n",
        "        'https://www.wikidata.org/w/api.php'\n",
        "        '?action=wbgetentities'\n",
        "        '&props=sitelinks/urls'\n",
        "        f'&ids={wikidata_id}'\n",
        "        '&format=json')\n",
        "    json_response = requests.get(url).json()\n",
        "    if debug: print(wikidata_id, url, json_response)\n",
        "\n",
        "    entities = json_response.get('entities')\n",
        "    if entities:\n",
        "        entity = entities.get(wikidata_id)\n",
        "        if entity:\n",
        "            sitelinks = entity.get('sitelinks')\n",
        "            if sitelinks:\n",
        "                if lang:\n",
        "                    # filter only the specified language\n",
        "                    sitelink = sitelinks.get(f'{lang}wiki')\n",
        "                    if sitelink:\n",
        "                        wiki_url = sitelink.get('url')\n",
        "                        if wiki_url:\n",
        "                            return requests.utils.unquote(wiki_url)\n",
        "                else:\n",
        "                    # return all of the urls\n",
        "                    wiki_urls = {}\n",
        "                    for key, sitelink in sitelinks.items():\n",
        "                        wiki_url = sitelink.get('url')\n",
        "                        if wiki_url:\n",
        "                            wiki_urls[key] = requests.utils.unquote(wiki_url)\n",
        "                    return wiki_urls\n",
        "    return None\n"
      ]
    },
    {
      "cell_type": "code",
      "source": [
        "url = get_wikipedia_url_from_wikidata_id(\"Q1770710\", lang='en')"
      ],
      "metadata": {
        "id": "FIhc7ZvhsxAa"
      },
      "execution_count": 25,
      "outputs": []
    },
    {
      "cell_type": "code",
      "source": [
        "print(url)"
      ],
      "metadata": {
        "colab": {
          "base_uri": "https://localhost:8080/"
        },
        "id": "yGzxxw-is1tu",
        "outputId": "83a8dd08-7c26-4bf0-a0f3-5400a61e96ff"
      },
      "execution_count": 26,
      "outputs": [
        {
          "output_type": "stream",
          "name": "stdout",
          "text": [
            "https://en.wikipedia.org/wiki/Tripadvisor\n"
          ]
        }
      ]
    },
    {
      "cell_type": "code",
      "source": [
        "def get_content(url):\n",
        "  response = requests.get(url)\n",
        "\n",
        "  if response is not None:\n",
        "      html = BeautifulSoup(response.text, 'html.parser')\n",
        "\n",
        "      title = html.select(\"#firstHeading\")[0].text\n",
        "      paragraphs = html.select(\"p\")\n",
        "      print(title)\n",
        "      for para in paragraphs[:1]:\n",
        "          print (para.text)"
      ],
      "metadata": {
        "id": "nGEQg1TqtecW"
      },
      "execution_count": 29,
      "outputs": []
    },
    {
      "cell_type": "code",
      "source": [
        "get_content(url)"
      ],
      "metadata": {
        "colab": {
          "base_uri": "https://localhost:8080/"
        },
        "id": "XHJEkepDwe4_",
        "outputId": "b2e53844-5b4f-45b4-d1bf-d494aa4283fc"
      },
      "execution_count": 30,
      "outputs": [
        {
          "output_type": "stream",
          "name": "stdout",
          "text": [
            "Tripadvisor\n",
            "Tripadvisor, Inc. is an American company that operates online travel agencies, comparison shopping websites, and mobile apps with user-generated content.[1]\n",
            "\n"
          ]
        }
      ]
    },
    {
      "cell_type": "code",
      "source": [],
      "metadata": {
        "id": "2KbTHYvGxTFR"
      },
      "execution_count": null,
      "outputs": []
    }
  ]
}